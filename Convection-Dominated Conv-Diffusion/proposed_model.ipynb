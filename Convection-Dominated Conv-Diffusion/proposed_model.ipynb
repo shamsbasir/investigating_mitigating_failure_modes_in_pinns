{
 "cells": [
  {
   "cell_type": "code",
   "execution_count": 1,
   "id": "6aca9c23",
   "metadata": {},
   "outputs": [],
   "source": [
    "#@ author: Shamsulhaq Basir\n",
    "#@ email: shamsbasir@gmail.com"
   ]
  },
  {
   "cell_type": "code",
   "execution_count": 2,
   "id": "67c6b5d3",
   "metadata": {},
   "outputs": [
    {
     "data": {
      "text/plain": [
       "<torch._C.Generator at 0x7fcf6a3b6390>"
      ]
     },
     "execution_count": 2,
     "metadata": {},
     "output_type": "execute_result"
    }
   ],
   "source": [
    "%reset -f\n",
    "import os\n",
    "import torch\n",
    "import numpy as np\n",
    "from tqdm import tqdm\n",
    "from numpy import vectorize\n",
    "from torch.optim import Adam, LBFGS\n",
    "\n",
    "\n",
    "%matplotlib inline\n",
    "import matplotlib as mpl\n",
    "import matplotlib.pyplot as plt\n",
    "from scipy.interpolate import griddata\n",
    "import matplotlib.gridspec as gridspec\n",
    "\n",
    "from utility.net_plotter import *\n",
    "\n",
    "torch.set_default_dtype(torch.float64)\n",
    "# for reproducibility purposes we provide a seed\n",
    "np.random.seed(1)\n",
    "torch.manual_seed(1)"
   ]
  },
  {
   "cell_type": "code",
   "execution_count": 3,
   "id": "cf59e2c3",
   "metadata": {},
   "outputs": [
    {
     "name": "stdout",
     "output_type": "stream",
     "text": [
      "False\n",
      "1.12.1\n"
     ]
    }
   ],
   "source": [
    "print(torch.cuda.is_available())\n",
    "print(torch.__version__)"
   ]
  },
  {
   "cell_type": "code",
   "execution_count": 4,
   "id": "c5a2d9a6",
   "metadata": {},
   "outputs": [],
   "source": [
    "class ConventBlock(torch.nn.Module):\n",
    "    def __init__(self,in_N,out_N):\n",
    "        super(ConventBlock, self).__init__()\n",
    "        self.Ls  = None \n",
    "        self.net =torch.nn.Sequential(torch.nn.Linear(in_N,out_N),torch.nn.Tanh())\n",
    "    def forward(self, x):\n",
    "        out = self.net(x)\n",
    "        return out "
   ]
  },
  {
   "cell_type": "code",
   "execution_count": 5,
   "id": "c00eb8e9",
   "metadata": {},
   "outputs": [],
   "source": [
    "class Network(torch.nn.Module):\n",
    "    def __init__(self,layers,**kwargs):\n",
    "        super(Network,self).__init__()\n",
    "        self.mu  = kwargs[\"mean\"]\n",
    "        self.std = kwargs[\"stdev\"]\n",
    "        _layers = [] \n",
    "        for i in range(0,len(layers)-2):\n",
    "            _layers.append(ConventBlock(layers[i],layers[i+1]))\n",
    "        _layers.append(torch.nn.Linear(layers[-2],layers[-1]))\n",
    "        self.net = torch.nn.Sequential(*_layers)\n",
    "        \n",
    "    def forward(self,x):\n",
    "        # normalize the input\n",
    "        x = (x - self.mu)/self.std\n",
    "        o = self.net(x)\n",
    "        u = o[:,0].reshape(-1,1)\n",
    "        s = o[:,1].reshape(-1,1)\n",
    "        return u,s\n",
    "        \n",
    "def init_weights(m):\n",
    "    if type(m) == torch.nn.Linear:\n",
    "        torch.nn.init.xavier_normal_(m.weight.data)\n",
    "        torch.nn.init.zeros_(m.bias)"
   ]
  },
  {
   "cell_type": "code",
   "execution_count": 6,
   "id": "971abb66",
   "metadata": {},
   "outputs": [],
   "source": [
    "global alpha,v\n",
    "v,alpha  = torch.tensor(1.0), torch.tensor(1e-6)\n",
    "\n",
    "def u_exact(x):\n",
    "    return torch.exp(-v * x/ alpha) / ( 1 - torch.exp(- v / alpha)) - 1./2.\n",
    "\n",
    "# sigma = - alpha * u_x \n",
    "def sigma_exact(x):\n",
    "    return v * alpha* torch.exp(-v * x/ alpha) / (alpha * ( 1 - torch.exp(- v / alpha)))"
   ]
  },
  {
   "cell_type": "code",
   "execution_count": 7,
   "id": "938711d9",
   "metadata": {},
   "outputs": [],
   "source": [
    "def fetch_boundary_points(domain=[0.0,1.0]):\n",
    "    data = torch.tensor([[domain[0]],[domain[1]]])\n",
    "    return data"
   ]
  },
  {
   "cell_type": "code",
   "execution_count": 8,
   "id": "222c965b",
   "metadata": {},
   "outputs": [],
   "source": [
    "# def fetch_residual_points(N_data,domain):\n",
    "#     soboleng       = torch.quasirandom.SobolEngine(dimension=1,scramble=True)\n",
    "#     data           = soboleng.draw(N_data,dtype=torch.float64)*(domain[1] - domain[0]) + domain[0] \n",
    "#     return data\n",
    "\n",
    "def fetch_residual_points(N_data,domain):\n",
    "    data = torch.linspace(domain[0],domain[1],N_data)[:,None]\n",
    "    return data"
   ]
  },
  {
   "cell_type": "code",
   "execution_count": 9,
   "id": "f308a81e",
   "metadata": {},
   "outputs": [],
   "source": [
    "def calc_pde_loss(phi,model,x):\n",
    "    u,s = model(x)\n",
    "    u_x  = torch.autograd.grad(u.sum(),x,create_graph=True)[0]\n",
    "    s_x = torch.autograd.grad(s.sum(),x,create_graph=True)[0]\n",
    "    physics_loss   = (v * u_x -  s_x).pow(2)\n",
    "    flux_loss      = phi(s,- alpha * u_x)\n",
    "    return physics_loss, flux_loss"
   ]
  },
  {
   "cell_type": "code",
   "execution_count": 10,
   "id": "c342f944",
   "metadata": {},
   "outputs": [],
   "source": [
    "def calc_boundary_loss(phi,model,x,ue):\n",
    "    u,_   = model(x)\n",
    "    loss  = phi_bc(u,ue)\n",
    "    return loss"
   ]
  },
  {
   "cell_type": "code",
   "execution_count": 11,
   "id": "70053ab5",
   "metadata": {},
   "outputs": [
    {
     "name": "stdout",
     "output_type": "stream",
     "text": [
      "Network(\n",
      "  (net): Sequential(\n",
      "    (0): ConventBlock(\n",
      "      (net): Sequential(\n",
      "        (0): Linear(in_features=1, out_features=20, bias=True)\n",
      "        (1): Tanh()\n",
      "      )\n",
      "    )\n",
      "    (1): ConventBlock(\n",
      "      (net): Sequential(\n",
      "        (0): Linear(in_features=20, out_features=20, bias=True)\n",
      "        (1): Tanh()\n",
      "      )\n",
      "    )\n",
      "    (2): ConventBlock(\n",
      "      (net): Sequential(\n",
      "        (0): Linear(in_features=20, out_features=20, bias=True)\n",
      "        (1): Tanh()\n",
      "      )\n",
      "    )\n",
      "    (3): ConventBlock(\n",
      "      (net): Sequential(\n",
      "        (0): Linear(in_features=20, out_features=20, bias=True)\n",
      "        (1): Tanh()\n",
      "      )\n",
      "    )\n",
      "    (4): Linear(in_features=20, out_features=2, bias=True)\n",
      "  )\n",
      ")\n",
      "0.5\n",
      "0.2887\n"
     ]
    }
   ],
   "source": [
    "# user input:\n",
    "kwargs ={\"mean\":0.50, \"stdev\":0.2887}     \n",
    "layers = [1,20,20,20,20,2]\n",
    "domain = [0.0,1.0]\n",
    "model  = Network(layers,**kwargs)\n",
    "model.apply(init_weights)\n",
    "\n",
    "optimizer   = LBFGS(model.parameters(),line_search_fn=\"strong_wolfe\")\n",
    "#optimizer   = Adam(model.parameters(),lr=1e-2)\n",
    "\n",
    "if type(optimizer).__name__ in ['Adam']:\n",
    "    scheduler   = torch.optim.lr_scheduler.ReduceLROnPlateau(optimizer,factor=0.9,patience=100)\n",
    "\n",
    "    \n",
    "print(model)\n",
    "print(model.mu)\n",
    "print(model.std)"
   ]
  },
  {
   "cell_type": "code",
   "execution_count": 12,
   "id": "5d467741",
   "metadata": {},
   "outputs": [
    {
     "data": {
      "text/plain": [
       "1342"
      ]
     },
     "execution_count": 12,
     "metadata": {},
     "output_type": "execute_result"
    }
   ],
   "source": [
    "sum([p.numel() for p in model.parameters()])"
   ]
  },
  {
   "cell_type": "code",
   "execution_count": 13,
   "id": "34f8f066",
   "metadata": {},
   "outputs": [],
   "source": [
    "def evaluate(model,domain):\n",
    "    x_test = torch.linspace(domain[0],domain[1],128)[:,None]\n",
    "    u_test = u_exact(x_test)\n",
    "    u_pred,_ = model(x_test)\n",
    "    \n",
    "    u_l2    = torch.linalg.norm(u_test - u_pred.detach(), 2)/torch.linalg.norm(u_test, 2)\n",
    "    u_linf  = torch.linalg.norm(u_test - u_pred.detach(), float('inf'))\n",
    "    \n",
    "    return u_l2,u_linf"
   ]
  },
  {
   "cell_type": "code",
   "execution_count": 14,
   "id": "6af2d374",
   "metadata": {},
   "outputs": [],
   "source": [
    "# generating points for boundary condition\n",
    "x_bc    = fetch_boundary_points(domain)\n",
    "u_bc    = u_exact(x_bc)\n",
    "\n",
    "x_dm    = fetch_residual_points(2048,domain)\n",
    "x_dm    = x_dm.requires_grad_(True)"
   ]
  },
  {
   "cell_type": "code",
   "execution_count": 15,
   "id": "720801ca",
   "metadata": {},
   "outputs": [],
   "source": [
    "phi_bc     = torch.nn.MSELoss(reduction='none')\n",
    "phi_flux   = torch.nn.MSELoss(reduction='none')"
   ]
  },
  {
   "cell_type": "code",
   "execution_count": 16,
   "id": "7ac5c101",
   "metadata": {
    "tags": []
   },
   "outputs": [
    {
     "name": "stderr",
     "output_type": "stream",
     "text": [
      " 10%|█         | 500/5000 [02:03<17:46,  4.22it/s]"
     ]
    },
    {
     "name": "stdout",
     "output_type": "stream",
     "text": [
      "epoch : 500,u l2 : 7.94e-01, u linf : 4.05e-01\n",
      "epoch :  500, total physics loss :2.451e-02\n"
     ]
    },
    {
     "name": "stderr",
     "output_type": "stream",
     "text": [
      " 20%|██        | 1000/5000 [04:41<16:38,  4.01it/s] "
     ]
    },
    {
     "name": "stdout",
     "output_type": "stream",
     "text": [
      "epoch : 1000,u l2 : 6.92e-01, u linf : 3.49e-01\n",
      "epoch : 1000, total physics loss :1.470e-02\n"
     ]
    },
    {
     "name": "stderr",
     "output_type": "stream",
     "text": [
      " 30%|███       | 1500/5000 [06:50<14:31,  4.02it/s]"
     ]
    },
    {
     "name": "stdout",
     "output_type": "stream",
     "text": [
      "epoch : 1500,u l2 : 9.96e-03, u linf : 1.60e-02\n",
      "epoch : 1500, total physics loss :3.347e-01\n"
     ]
    },
    {
     "name": "stderr",
     "output_type": "stream",
     "text": [
      " 40%|████      | 2000/5000 [08:52<12:23,  4.04it/s]"
     ]
    },
    {
     "name": "stdout",
     "output_type": "stream",
     "text": [
      "epoch : 2000,u l2 : 3.90e-03, u linf : 4.18e-03\n",
      "epoch : 2000, total physics loss :5.752e-02\n"
     ]
    },
    {
     "name": "stderr",
     "output_type": "stream",
     "text": [
      " 50%|█████     | 2500/5000 [11:15<11:59,  3.47it/s]"
     ]
    },
    {
     "name": "stdout",
     "output_type": "stream",
     "text": [
      "epoch : 2500,u l2 : 2.16e-03, u linf : 1.39e-03\n",
      "epoch : 2500, total physics loss :1.258e-02\n"
     ]
    },
    {
     "name": "stderr",
     "output_type": "stream",
     "text": [
      " 60%|██████    | 3004/5000 [13:00<01:31, 21.93it/s]"
     ]
    },
    {
     "name": "stdout",
     "output_type": "stream",
     "text": [
      "epoch : 3000,u l2 : 5.14e-04, u linf : 3.18e-04\n",
      "epoch : 3000, total physics loss :1.375e-03\n"
     ]
    },
    {
     "name": "stderr",
     "output_type": "stream",
     "text": [
      " 70%|███████   | 3508/5000 [13:56<02:07, 11.74it/s]"
     ]
    },
    {
     "name": "stdout",
     "output_type": "stream",
     "text": [
      "epoch : 3500,u l2 : 1.28e-04, u linf : 1.43e-04\n",
      "epoch : 3500, total physics loss :1.058e-03\n"
     ]
    },
    {
     "name": "stderr",
     "output_type": "stream",
     "text": [
      " 80%|████████  | 4009/5000 [14:20<00:56, 17.58it/s]"
     ]
    },
    {
     "name": "stdout",
     "output_type": "stream",
     "text": [
      "epoch : 4000,u l2 : 2.15e-04, u linf : 1.68e-04\n",
      "epoch : 4000, total physics loss :9.504e-04\n"
     ]
    },
    {
     "name": "stderr",
     "output_type": "stream",
     "text": [
      " 90%|█████████ | 4505/5000 [15:00<00:08, 59.90it/s]"
     ]
    },
    {
     "name": "stdout",
     "output_type": "stream",
     "text": [
      "epoch : 4500,u l2 : 3.10e-05, u linf : 5.29e-05\n",
      "epoch : 4500, total physics loss :8.328e-04\n"
     ]
    },
    {
     "name": "stderr",
     "output_type": "stream",
     "text": [
      "100%|██████████| 5000/5000 [15:16<00:00,  5.46it/s]"
     ]
    },
    {
     "name": "stdout",
     "output_type": "stream",
     "text": [
      "epoch : 5000,u l2 : 3.11e-05, u linf : 4.75e-05\n",
      "epoch : 5000, total physics loss :8.584e-04\n",
      "epoch : 5000,u l2 : 3.11e-05, u linf : 4.75e-05\n"
     ]
    },
    {
     "name": "stderr",
     "output_type": "stream",
     "text": [
      "\n"
     ]
    }
   ],
   "source": [
    "epochs          = 5000\n",
    "disp_epoch      = 500\n",
    "print_to_consol = True\n",
    "\n",
    "lambda_flux  = torch.ones_like(x_dm)\n",
    "lambda_bc    = torch.ones_like(x_bc)\n",
    "\n",
    "v_flux      = torch.zeros_like(x_dm)\n",
    "v_bc        = torch.zeros_like(x_bc)\n",
    "\n",
    "moment       = 0.9\n",
    "lr           = 1e-2\n",
    "\n",
    "for epoch in tqdm(range(1,epochs+1)):\n",
    "\n",
    "    def closure():\n",
    "        if torch.is_grad_enabled():\n",
    "            optimizer.zero_grad()\n",
    "\n",
    "        # calculating reformulated pde loss\n",
    "        physics_loss,flux_res = calc_pde_loss(phi_flux,model,x_dm)\n",
    "        \n",
    "        flux_loss       = (lambda_flux * flux_res).sum()\n",
    "        # approximating boundary constraints\n",
    "        boundary_res = calc_boundary_loss(phi_bc,model,x_bc,u_bc)\n",
    "\n",
    "        # approximating boundary loss \n",
    "        boundary_loss   = (lambda_bc  * boundary_res).sum()\n",
    "        # total loss \n",
    "        loss      = physics_loss.sum() + flux_loss  + boundary_loss \n",
    "\n",
    "        if loss.requires_grad:\n",
    "            loss.backward()\n",
    "        return loss\n",
    "\n",
    "    def _closure():\n",
    "\n",
    "        model.eval()\n",
    "\n",
    "        # calculating reformulated pde loss\n",
    "        physics_loss,flux_res = calc_pde_loss(phi_flux,model,x_dm)\n",
    "\n",
    "        # approximating boundary constraints\n",
    "        boundary_res = calc_boundary_loss(phi_bc,model,x_bc,u_bc)\n",
    "\n",
    "        return physics_loss.sum(),flux_res, boundary_res\n",
    "    \n",
    "\n",
    "    optimizer.step(closure)\n",
    "    physics_loss,flux_res, boundary_res = _closure()\n",
    "        \n",
    "    with torch.no_grad():\n",
    "        v_bc    = (1.0 - moment) * boundary_res.pow(2) + moment * v_bc\n",
    "        v_flux  = (1.0 - moment) * flux_res.pow(2)     + moment * v_flux\n",
    "        \n",
    "        lambda_bc    += lr / ( v_bc   + 1e-10).sqrt()   * boundary_res\n",
    "        lambda_flux  += lr / ( v_flux + 1e-10).sqrt()   * flux_res\n",
    "\n",
    "        if epoch%disp_epoch == 0 and print_to_consol:\n",
    "            u_l2,u_linf = evaluate(model,domain)\n",
    "            print(f\"epoch : {epoch},u l2 : {u_l2:2.2e}, u linf : {u_linf:2.2e}\")\n",
    "            print(f\"epoch :{epoch:5d}, total physics loss :{physics_loss.item():2.3e}\")\n",
    "\n",
    "u_l2,u_linf = evaluate(model,domain)\n",
    "print(f\"epoch : {epoch},u l2 : {u_l2:2.2e}, u linf : {u_linf:2.2e}\")\n",
    "file = f\"models/Proposed_model.pt\"\n",
    "torch.save(model.state_dict(),file)\n",
    "\n",
    "# saving the lagrange multipliers \n",
    "file = f\"LagrangeMultiplier/Lambda_bc_proposed\"\n",
    "np.save(file, lambda_bc)\n",
    "\n",
    "file = f\"LagrangeMultiplier/Lambda_flux_proposed\"\n",
    "np.save(file, lambda_flux)"
   ]
  },
  {
   "cell_type": "code",
   "execution_count": null,
   "id": "1a1c4f30-8a2f-4acb-89d9-a122e62f690b",
   "metadata": {},
   "outputs": [],
   "source": []
  },
  {
   "cell_type": "code",
   "execution_count": 23,
   "id": "f8a75790-af8c-40b6-acf9-31f86319c632",
   "metadata": {},
   "outputs": [],
   "source": [
    "# https://joseph-long.com/writing/colorbars/\n",
    "def colorbar(mappable,min_val,max_val,limit):\n",
    "    from mpl_toolkits.axes_grid1 import make_axes_locatable\n",
    "    import matplotlib.pyplot as plt\n",
    "    last_axes = plt.gca()\n",
    "    ax = mappable.axes\n",
    "    fig = ax.figure\n",
    "    divider = make_axes_locatable(ax)\n",
    "    cax = divider.append_axes(\"right\", size=\"5%\", pad=0.2)\n",
    "    ticks = np.linspace(min_val, max_val, 4, endpoint=True)\n",
    "    cbar = fig.colorbar(mappable, cax=cax,ticks=ticks)\n",
    "    cbar.formatter.set_powerlimits((limit, limit))\n",
    "    plt.sca(last_axes)\n",
    "    return cbar\n",
    "\n",
    "params = {\n",
    "    'text.latex.preamble': '\\\\usepackage{gensymb}',\n",
    "    'image.origin': 'lower',\n",
    "    'image.interpolation': 'nearest',\n",
    "    'image.cmap': 'gray',\n",
    "    'axes.grid': False,\n",
    "    'savefig.dpi': 150,  # to adjust notebook inline plot size\n",
    "    'axes.labelsize': 18, # fontsize for x and y labels\n",
    "    'axes.titlesize': 24,\n",
    "    'font.size'     : 20, \n",
    "    'legend.fontsize': 18, \n",
    "    'xtick.labelsize': 14,\n",
    "    'ytick.labelsize': 14,\n",
    "    'text.usetex': False,\n",
    "    'figure.figsize': [4, 4],\n",
    "    'font.family': 'serif',\n",
    "}\n",
    "plt.rcParams.update(params)\n",
    "cmap_list = ['jet','YlGnBu','coolwarm','rainbow','magma','plasma','inferno','Spectral','RdBu']\n",
    "cmap = plt.cm.get_cmap(cmap_list[8]).reversed()"
   ]
  },
  {
   "cell_type": "code",
   "execution_count": 31,
   "id": "3abf4bf0-d4d4-4e43-b56d-132d28ed0398",
   "metadata": {},
   "outputs": [],
   "source": [
    "file = f\"models/Proposed_model.pt\"\n",
    "model.load_state_dict(torch.load(file))\n",
    "\n",
    "# loading the lagrange multipliers \n",
    "file = f\"LagrangeMultiplier/Lambda_bc_proposed.npy\"\n",
    "lambda_bc = torch.from_numpy(np.load(file))\n",
    "\n",
    "file = f\"LagrangeMultiplier/Lambda_flux_proposed.npy\"\n",
    "lambda_flux = torch.from_numpy(np.load(file))\n"
   ]
  },
  {
   "cell_type": "code",
   "execution_count": 32,
   "id": "6f5560a8-cc58-4bee-be31-3d7af0f5e625",
   "metadata": {},
   "outputs": [],
   "source": [
    "# create the coordinates\n",
    "numebr_of_points = 128 ; small_range = -1.0 ; large_range =  1.0\n",
    "xcoordinates = np.linspace(small_range, large_range, num=numebr_of_points) \n",
    "ycoordinates = np.linspace(small_range, large_range, num=numebr_of_points) \n",
    "xcoord_mesh, ycoord_mesh = np.meshgrid(xcoordinates, ycoordinates)\n",
    "\n",
    "# get two random directions with filter normalization \n",
    "weights           = get_weights(model)\n",
    "\n",
    "# pick random direction one\n",
    "random_direction1 = create_random_direction(model)\n",
    "\n",
    "# pick random direction two\n",
    "random_direction2 = create_random_direction(model)\n",
    "\n",
    "directions        = [random_direction1,random_direction2]\n",
    "\n",
    "# calculating loss values \n",
    "loss_list = np.zeros((numebr_of_points,numebr_of_points))\n",
    "\n",
    "for row in range(numebr_of_points):\n",
    "    \n",
    "    for col in range(numebr_of_points):\n",
    "        \n",
    "        step_x = xcoord_mesh[row][col]\n",
    "        step_y = ycoord_mesh[row][col]\n",
    "        step   = [step_x, step_y]\n",
    "\n",
    "        #updating the weights of the model \n",
    "        set_weights(model,weights,directions,step)\n",
    "\n",
    "        physics_loss,flux_res = calc_pde_loss(phi_flux,model,x_dm)\n",
    "        \n",
    "        flux_loss       = (lambda_flux * flux_res).sum()\n",
    "        # approximating boundary constraints\n",
    "        boundary_res = calc_boundary_loss(phi_bc,model,x_bc,u_bc)\n",
    "\n",
    "        # approximating boundary loss \n",
    "        boundary_loss   = (lambda_bc  * boundary_res).sum()\n",
    "        # total loss \n",
    "        loss      = physics_loss.sum() + flux_loss  + boundary_loss \n",
    "\n",
    "        with torch.no_grad():\n",
    "            loss_list[row][col] = loss.item()"
   ]
  },
  {
   "cell_type": "code",
   "execution_count": 36,
   "id": "92666edf-468b-4b1b-bd2d-e0036efc179e",
   "metadata": {},
   "outputs": [
    {
     "data": {
      "image/png": "[encoded data removed]",
      "text/plain": [
       "<Figure size 360x360 with 2 Axes>"
      ]
     },
     "metadata": {
      "needs_background": "light"
     },
     "output_type": "display_data"
    }
   ],
   "source": [
    "cmap_list = ['jet','YlGnBu','coolwarm','rainbow','magma','plasma','inferno','Spectral','RdBu']\n",
    "cm = plt.cm.get_cmap(cmap_list[6]).reversed()\n",
    "\n",
    "gs = gridspec.GridSpec(1, 1)\n",
    "gs.update(wspace=0.1)\n",
    "\n",
    "fig = plt.figure(figsize=(5,5))\n",
    "ax = plt.subplot(gs[0,0],projection='3d')\n",
    "# Remove gray panes and axis grid\n",
    "ax.xaxis.pane.fill = False\n",
    "ax.xaxis.pane.set_edgecolor('white')\n",
    "ax.yaxis.pane.fill = False\n",
    "ax.yaxis.pane.set_edgecolor('white')\n",
    "ax.zaxis.pane.fill = False\n",
    "ax.zaxis.pane.set_edgecolor('white')\n",
    "ax.grid(False)\n",
    "\n",
    "# Remove z-axis\n",
    "ax.w_zaxis.line.set_lw(0.)\n",
    "ax.set_zticks([])\n",
    "\n",
    "vmax = np.max(np.log(loss_list+1e-14))\n",
    "vmin = np.min(np.log(loss_list+1e-14))\n",
    "plot = ax.plot_surface(xcoord_mesh, \n",
    "                       ycoord_mesh,\n",
    "                       np.log(loss_list+1e-14),\n",
    "                       cmap=cm,\n",
    "                       linewidth=0, \n",
    "                       vmin=vmin,\n",
    "                       vmax=vmax)\n",
    "\n",
    "cset = ax.contourf(xcoord_mesh, \n",
    "                   ycoord_mesh,\n",
    "                   np.log(loss_list+1e-14),\n",
    "                   zdir='z', \n",
    "                   offset=np.min(np.log(loss_list+1e-14)-0.2), \n",
    "                   cmap=cm)\n",
    "\n",
    "# Adjust plot view\n",
    "ax.view_init(elev=25, azim=-45)\n",
    "ax.dist=11\n",
    "ticks = np.linspace(vmin, vmax, 4, endpoint=True)\n",
    "cbar = fig.colorbar(plot, ax=ax, shrink=0.50,ticks=ticks,pad=0.02)\n",
    "cbar.formatter.set_powerlimits((1, 1))\n",
    "\n",
    "# Set tick marks\n",
    "ax.xaxis.set_major_locator(mpl.ticker.MultipleLocator(1))\n",
    "ax.yaxis.set_major_locator(mpl.ticker.MultipleLocator(1))\n",
    "\n",
    "# Set axis labels\n",
    "ax.set_xlabel(r\"$\\epsilon_1$\");\n",
    "ax.set_ylabel(r\"$\\epsilon_2$\");\n",
    "# Set z-limit\n",
    "ax.set_zlim(vmin, vmax);\n",
    "\n",
    "#ax.set_title('Proposed model',fontsize=12)\n",
    "filename = f\"figures/loss_landscape_Proposed_{type(optimizer).__name__}\"\n",
    "plt.savefig('{}.png'.format(filename), bbox_inches='tight', pad_inches=0.2)\n",
    "plt.show()"
   ]
  },
  {
   "cell_type": "code",
   "execution_count": 34,
   "id": "6271527f-35f9-4ff5-9a55-b97ef1965438",
   "metadata": {},
   "outputs": [
    {
     "name": "stdout",
     "output_type": "stream",
     "text": [
      "Model trained with Adam not found\n",
      " Model trained with LBFGS optimizer : u l2 : 1.66e-04, u linf : 2.94e-04\n"
     ]
    },
    {
     "data": {
      "image/png": "[encoded data removed]",
      "text/plain": [
       "<Figure size 288x288 with 1 Axes>"
      ]
     },
     "metadata": {
      "needs_background": "light"
     },
     "output_type": "display_data"
    }
   ],
   "source": [
    "# testing and saving L_2r and L_inf\n",
    "fig = plt.figure(figsize=(4,4))\n",
    "\n",
    "gs = gridspec.GridSpec(1,1)\n",
    "ax = plt.subplot(gs[0,0])\n",
    "x_test = torch.linspace(domain[0],domain[1],128)[:,None]\n",
    "u_test = u_exact(x_test)\n",
    "ax.plot(x_test,u_test,'-r',label='Exact',linewidth=3)\n",
    "try:\n",
    "    file = f\"models/Proposed_Adam.pt\"\n",
    "    model.load_state_dict(torch.load(file))\n",
    "    u_pred_Adam,_  = model(x_test)\n",
    "\n",
    "    u_l2    = torch.linalg.norm(u_test - u_pred_Adam.detach(), 2)/torch.linalg.norm(u_test, 2)\n",
    "    u_linf  = torch.linalg.norm(u_test - u_pred_Adam.detach(), float('inf'))\n",
    "    print(f\" Model trained with Adam optimizer : u l2 : {u_l2:2.2e}, u linf : {u_linf:2.2e}\")\n",
    "    ax.plot(x_test,u_pred_Adam.detach(),'-.b',label='Predicted (Adam)',linewidth=3)\n",
    "\n",
    "except:\n",
    "    print(\"Model trained with Adam not found\")\n",
    "    \n",
    "\n",
    "try:\n",
    "    file = f\"models/Proposed_LBFGS.pt\"\n",
    "    model.load_state_dict(torch.load(file))\n",
    "    u_pred_LBFGS,_  = model(x_test)\n",
    "\n",
    "    u_l2    = torch.linalg.norm(u_test - u_pred_LBFGS.detach(), 2)/torch.linalg.norm(u_test, 2)\n",
    "    u_linf  = torch.linalg.norm(u_test - u_pred_LBFGS.detach(), float('inf'))\n",
    "    print(f\" Model trained with LBFGS optimizer : u l2 : {u_l2:2.2e}, u linf : {u_linf:2.2e}\")\n",
    "    \n",
    "    ax.plot(x_test,u_pred_LBFGS.detach(),'--c',label='Predicted',linewidth=3)\n",
    "\n",
    "except:\n",
    "    print(\"Model trained with LBFGS not found\")\n",
    "    \n",
    "\n",
    "\n",
    "ax.set_xlabel('$x$')\n",
    "ax.set_ylabel('$u(x)$')\n",
    "ax.set_yticks([-0.5,0.,0.5])\n",
    "ax.set_xticks([0.,0.5,1.0])\n",
    "plt.legend(frameon=False,loc='upper right',ncol=1)\n",
    "filename =f\"figures/Proposed_u\"\n",
    "plt.savefig('{}.png'.format(filename), bbox_inches='tight', pad_inches=0.02)\n",
    "plt.show() \n"
   ]
  },
  {
   "cell_type": "code",
   "execution_count": 30,
   "id": "1979b5d7-2871-41fa-982f-4f920676e5a6",
   "metadata": {},
   "outputs": [
    {
     "data": {
      "image/png": "[encoded data removed]",
      "text/plain": [
       "<Figure size 288x288 with 1 Axes>"
      ]
     },
     "metadata": {
      "needs_background": "light"
     },
     "output_type": "display_data"
    }
   ],
   "source": [
    "# testing and saving L_2r and L_inf\n",
    "fig = plt.figure(figsize=(4,4))\n",
    "\n",
    "gs = gridspec.GridSpec(1,1)\n",
    "ax = plt.subplot(gs[0,0])\n",
    "ax.semilogy(x_dm.detach(),lambda_flux,'-m',label='$\\lambda_{\\mathcal{F}}$',linewidth=3)\n",
    "ax.set_ylabel('$\\lambda_{\\mathcal{F}}$')\n",
    "ax.set_xlabel('$x$')\n",
    "ax.set_yticks([1e0,1e1,1e2])\n",
    "ax.set_xticks([0.,0.5,1.0])\n",
    "# plt.legend(frameon=False,loc='upper right',ncol=1)\n",
    "filename =f\"figures/Proposed_lambda_flux\"\n",
    "plt.savefig('{}.png'.format(filename), bbox_inches='tight', pad_inches=0.02)\n",
    "plt.show() "
   ]
  },
  {
   "cell_type": "code",
   "execution_count": null,
   "id": "6ce634cf-62bf-4772-85db-36cb268e6a5f",
   "metadata": {},
   "outputs": [],
   "source": []
  }
 ],
 "metadata": {
  "kernelspec": {
   "display_name": "Python 3 (ipykernel)",
   "language": "python",
   "name": "python3"
  },
  "language_info": {
   "codemirror_mode": {
    "name": "ipython",
    "version": 3
   },
   "file_extension": ".py",
   "mimetype": "text/x-python",
   "name": "python",
   "nbconvert_exporter": "python",
   "pygments_lexer": "ipython3",
   "version": "3.9.7"
  },
  "widgets": {
   "application/vnd.jupyter.widget-state+json": {
    "state": {},
    "version_major": 2,
    "version_minor": 0
   }
  }
 },
 "nbformat": 4,
 "nbformat_minor": 5
}
